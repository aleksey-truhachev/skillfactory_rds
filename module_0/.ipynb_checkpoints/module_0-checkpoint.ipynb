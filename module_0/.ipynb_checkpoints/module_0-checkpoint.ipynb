{
 "cells": [
  {
   "cell_type": "code",
   "execution_count": 9,
   "metadata": {},
   "outputs": [],
   "source": [
    "import numpy as np\n",
    "\n",
    "\n",
    "def score_game(game_core):\n",
    "    '''Запускаем игру 1000 раз, чтобы узнать, как быстро игра угадывает число'''\n",
    "    count_ls = []\n",
    "    np.random.seed(1)  # фиксируем RANDOM SEED, чтобы ваш эксперимент был воспроизводим\n",
    "    random_array = np.random.randint(1,101, size=1000)\n",
    "    for number in random_array:\n",
    "        count_ls.append(game_core(number))\n",
    "    score = int(np.mean(count_ls))\n",
    "    print(f\"Ваш алгоритм угадывает число в среднем за {score} попыток\")\n",
    "    return score\n",
    "\n",
    "\n",
    "def avg(*args):\n",
    "    return sum(args)/len(args)\n",
    "    \n",
    "    \n",
    "def game_core_v3(number):\n",
    "    '''\n",
    "        Метод нахождения искомого числа базируется на делении пополам отрезка поиска числа.\n",
    "        На начальном шаге левая граница отрезка -- 1, правая -- 100.\n",
    "        На каждом шаге серидиной отрезка поиска искомого числа является переменная predict_number.\n",
    "        Далее значение number сравнивается со значением predict_number.\n",
    "        В зависимости от результата сравнения меняются левая или правая границы отрезка: left_bound или right_bound.\n",
    "        Цикл поиска выполняется, пока number != predict_number.\n",
    "        В блоке if number > predict_number при вычислении predict_number необходимо к частному прибавить 0.5,\n",
    "        потому что int() \"производит округление\" в меньшую сторону\n",
    "    '''\n",
    "    count = 1\n",
    "    left_bound = 1\n",
    "    right_bound = 100\n",
    "    predict_number = int(avg(left_bound, right_bound))\n",
    "    while True:\n",
    "        if number > predict_number:\n",
    "            left_bound = predict_number\n",
    "            predict_number = int(avg(left_bound, right_bound) + 0.5)\n",
    "            count += 1\n",
    "        elif number < predict_number:\n",
    "            right_bound = predict_number\n",
    "            predict_number = int(avg(left_bound, right_bound))\n",
    "            count += 1\n",
    "        elif number == predict_number:\n",
    "            break\n",
    "    return count"
   ]
  },
  {
   "cell_type": "code",
   "execution_count": 10,
   "metadata": {},
   "outputs": [
    {
     "name": "stdout",
     "output_type": "stream",
     "text": [
      "Ваш алгоритм угадывает число в среднем за 5 попыток\n"
     ]
    },
    {
     "data": {
      "text/plain": [
       "5"
      ]
     },
     "execution_count": 10,
     "metadata": {},
     "output_type": "execute_result"
    }
   ],
   "source": [
    "score_game(game_core_v3)"
   ]
  },
  {
   "cell_type": "code",
   "execution_count": null,
   "metadata": {},
   "outputs": [],
   "source": []
  }
 ],
 "metadata": {
  "kernelspec": {
   "display_name": "Python 3",
   "language": "python",
   "name": "python3"
  },
  "language_info": {
   "codemirror_mode": {
    "name": "ipython",
    "version": 3
   },
   "file_extension": ".py",
   "mimetype": "text/x-python",
   "name": "python",
   "nbconvert_exporter": "python",
   "pygments_lexer": "ipython3",
   "version": "3.9.2"
  }
 },
 "nbformat": 4,
 "nbformat_minor": 4
}
