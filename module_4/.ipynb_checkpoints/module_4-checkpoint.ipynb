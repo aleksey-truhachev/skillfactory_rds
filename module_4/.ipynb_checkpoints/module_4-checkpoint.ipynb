{
 "cells": [
  {
   "cell_type": "markdown",
   "id": "circular-stake",
   "metadata": {},
   "source": [
    "Задачей проекта является построение модели банковского скоринга по имеющимся данным.\n",
    "\n",
    "Задача в процессе решения."
   ]
  },
  {
   "cell_type": "code",
   "execution_count": 87,
   "id": "dangerous-frequency",
   "metadata": {},
   "outputs": [],
   "source": [
    "import pandas as pd\n",
    "import numpy as np\n",
    "import matplotlib.pyplot as plt\n",
    "import seaborn as sns\n",
    "from sklearn.linear_model import LogisticRegression\n",
    "from sklearn import metrics\n",
    "from sklearn.model_selection import train_test_split\n",
    "from sklearn.preprocessing import RobustScaler, StandardScaler"
   ]
  },
  {
   "cell_type": "code",
   "execution_count": 88,
   "id": "native-liabilities",
   "metadata": {},
   "outputs": [
    {
     "name": "stdout",
     "output_type": "stream",
     "text": [
      "<class 'pandas.core.frame.DataFrame'>\n",
      "RangeIndex: 73799 entries, 0 to 73798\n",
      "Data columns (total 13 columns):\n",
      " #   Column            Non-Null Count  Dtype \n",
      "---  ------            --------------  ----- \n",
      " 0   education         73492 non-null  object\n",
      " 1   sex               73799 non-null  object\n",
      " 2   age               73799 non-null  int64 \n",
      " 3   car               73799 non-null  object\n",
      " 4   car_type          73799 non-null  object\n",
      " 5   decline_app_cnt   73799 non-null  int64 \n",
      " 6   good_work         73799 non-null  int64 \n",
      " 7   bki_request_cnt   73799 non-null  int64 \n",
      " 8   home_address      73799 non-null  int64 \n",
      " 9   work_address      73799 non-null  int64 \n",
      " 10  income            73799 non-null  int64 \n",
      " 11  foreign_passport  73799 non-null  object\n",
      " 12  default           73799 non-null  int64 \n",
      "dtypes: int64(8), object(5)\n",
      "memory usage: 7.3+ MB\n"
     ]
    },
    {
     "data": {
      "text/plain": [
       "None"
      ]
     },
     "metadata": {},
     "output_type": "display_data"
    },
    {
     "data": {
      "text/plain": [
       "education           307\n",
       "sex                   0\n",
       "age                   0\n",
       "car                   0\n",
       "car_type              0\n",
       "decline_app_cnt       0\n",
       "good_work             0\n",
       "bki_request_cnt       0\n",
       "home_address          0\n",
       "work_address          0\n",
       "income                0\n",
       "foreign_passport      0\n",
       "default               0\n",
       "dtype: int64"
      ]
     },
     "metadata": {},
     "output_type": "display_data"
    }
   ],
   "source": [
    "df = pd.read_csv('train.csv')\n",
    "df.drop('client_id', axis=1, inplace=True)\n",
    "display(df.info())\n",
    "display(df.isnull().sum())"
   ]
  },
  {
   "cell_type": "code",
   "execution_count": 89,
   "id": "unlikely-guarantee",
   "metadata": {},
   "outputs": [
    {
     "data": {
      "text/plain": [
       "<AxesSubplot:>"
      ]
     },
     "execution_count": 89,
     "metadata": {},
     "output_type": "execute_result"
    },
    {
     "data": {
      "image/png": "[encoded data removed]",
      "text/plain": [
       "<Figure size 432x288 with 1 Axes>"
      ]
     },
     "metadata": {
      "needs_background": "light"
     },
     "output_type": "display_data"
    }
   ],
   "source": [
    "df.education.value_counts().plot.barh()"
   ]
  },
  {
   "cell_type": "markdown",
   "id": "efficient-seminar",
   "metadata": {},
   "source": [
    "### Дизбаланс целевой переменной"
   ]
  },
  {
   "cell_type": "code",
   "execution_count": 90,
   "id": "lined-athens",
   "metadata": {},
   "outputs": [
    {
     "data": {
      "text/plain": [
       "<AxesSubplot:xlabel='default', ylabel='count'>"
      ]
     },
     "execution_count": 90,
     "metadata": {},
     "output_type": "execute_result"
    },
    {
     "data": {
      "image/png": "[encoded data removed]",
      "text/plain": [
       "<Figure size 432x288 with 1 Axes>"
      ]
     },
     "metadata": {
      "needs_background": "light"
     },
     "output_type": "display_data"
    }
   ],
   "source": [
    "sns.countplot(x=df.default, data=df)"
   ]
  },
  {
   "cell_type": "code",
   "execution_count": 91,
   "id": "alien-metro",
   "metadata": {},
   "outputs": [],
   "source": [
    "df.sex = df.sex.apply(lambda x: 1 if x=='M' else 0) # 1 -- мужчины, 0 -- женщины\n",
    "df.car = df.car.apply(lambda x: 1 if x=='Y' else 0)\n",
    "df.car_type = df.car_type.apply(lambda x: 1 if x=='Y' else 0)\n",
    "df.foreign_passport = df.foreign_passport.apply(lambda x: 1 if x=='Y' else 0)"
   ]
  },
  {
   "cell_type": "code",
   "execution_count": 92,
   "id": "marked-client",
   "metadata": {},
   "outputs": [
    {
     "data": {
      "text/html": [
       "<div>\n",
       "<style scoped>\n",
       "    .dataframe tbody tr th:only-of-type {\n",
       "        vertical-align: middle;\n",
       "    }\n",
       "\n",
       "    .dataframe tbody tr th {\n",
       "        vertical-align: top;\n",
       "    }\n",
       "\n",
       "    .dataframe thead th {\n",
       "        text-align: right;\n",
       "    }\n",
       "</style>\n",
       "<table border=\"1\" class=\"dataframe\">\n",
       "  <thead>\n",
       "    <tr style=\"text-align: right;\">\n",
       "      <th></th>\n",
       "      <th>sex</th>\n",
       "      <th>age</th>\n",
       "      <th>car</th>\n",
       "      <th>car_type</th>\n",
       "      <th>decline_app_cnt</th>\n",
       "      <th>good_work</th>\n",
       "      <th>bki_request_cnt</th>\n",
       "      <th>home_address</th>\n",
       "      <th>work_address</th>\n",
       "      <th>income</th>\n",
       "      <th>foreign_passport</th>\n",
       "      <th>default</th>\n",
       "    </tr>\n",
       "  </thead>\n",
       "  <tbody>\n",
       "    <tr>\n",
       "      <th>count</th>\n",
       "      <td>307.000000</td>\n",
       "      <td>307.000000</td>\n",
       "      <td>307.000000</td>\n",
       "      <td>307.000000</td>\n",
       "      <td>307.000000</td>\n",
       "      <td>307.000000</td>\n",
       "      <td>307.000000</td>\n",
       "      <td>307.000000</td>\n",
       "      <td>307.000000</td>\n",
       "      <td>307.000000</td>\n",
       "      <td>307.000000</td>\n",
       "      <td>307.000000</td>\n",
       "    </tr>\n",
       "    <tr>\n",
       "      <th>mean</th>\n",
       "      <td>0.449511</td>\n",
       "      <td>41.736156</td>\n",
       "      <td>0.387622</td>\n",
       "      <td>0.143322</td>\n",
       "      <td>0.104235</td>\n",
       "      <td>0.153094</td>\n",
       "      <td>1.785016</td>\n",
       "      <td>1.615635</td>\n",
       "      <td>2.553746</td>\n",
       "      <td>44558.231270</td>\n",
       "      <td>0.182410</td>\n",
       "      <td>0.114007</td>\n",
       "    </tr>\n",
       "    <tr>\n",
       "      <th>std</th>\n",
       "      <td>0.498257</td>\n",
       "      <td>11.313077</td>\n",
       "      <td>0.488003</td>\n",
       "      <td>0.350973</td>\n",
       "      <td>0.398791</td>\n",
       "      <td>0.360666</td>\n",
       "      <td>2.185672</td>\n",
       "      <td>0.519694</td>\n",
       "      <td>0.680886</td>\n",
       "      <td>68497.981737</td>\n",
       "      <td>0.386813</td>\n",
       "      <td>0.318338</td>\n",
       "    </tr>\n",
       "    <tr>\n",
       "      <th>min</th>\n",
       "      <td>0.000000</td>\n",
       "      <td>21.000000</td>\n",
       "      <td>0.000000</td>\n",
       "      <td>0.000000</td>\n",
       "      <td>0.000000</td>\n",
       "      <td>0.000000</td>\n",
       "      <td>0.000000</td>\n",
       "      <td>1.000000</td>\n",
       "      <td>1.000000</td>\n",
       "      <td>5000.000000</td>\n",
       "      <td>0.000000</td>\n",
       "      <td>0.000000</td>\n",
       "    </tr>\n",
       "    <tr>\n",
       "      <th>25%</th>\n",
       "      <td>0.000000</td>\n",
       "      <td>33.500000</td>\n",
       "      <td>0.000000</td>\n",
       "      <td>0.000000</td>\n",
       "      <td>0.000000</td>\n",
       "      <td>0.000000</td>\n",
       "      <td>0.000000</td>\n",
       "      <td>1.000000</td>\n",
       "      <td>2.000000</td>\n",
       "      <td>20000.000000</td>\n",
       "      <td>0.000000</td>\n",
       "      <td>0.000000</td>\n",
       "    </tr>\n",
       "    <tr>\n",
       "      <th>50%</th>\n",
       "      <td>0.000000</td>\n",
       "      <td>41.000000</td>\n",
       "      <td>0.000000</td>\n",
       "      <td>0.000000</td>\n",
       "      <td>0.000000</td>\n",
       "      <td>0.000000</td>\n",
       "      <td>1.000000</td>\n",
       "      <td>2.000000</td>\n",
       "      <td>3.000000</td>\n",
       "      <td>30000.000000</td>\n",
       "      <td>0.000000</td>\n",
       "      <td>0.000000</td>\n",
       "    </tr>\n",
       "    <tr>\n",
       "      <th>75%</th>\n",
       "      <td>1.000000</td>\n",
       "      <td>50.000000</td>\n",
       "      <td>1.000000</td>\n",
       "      <td>0.000000</td>\n",
       "      <td>0.000000</td>\n",
       "      <td>0.000000</td>\n",
       "      <td>2.500000</td>\n",
       "      <td>2.000000</td>\n",
       "      <td>3.000000</td>\n",
       "      <td>48500.000000</td>\n",
       "      <td>0.000000</td>\n",
       "      <td>0.000000</td>\n",
       "    </tr>\n",
       "    <tr>\n",
       "      <th>max</th>\n",
       "      <td>1.000000</td>\n",
       "      <td>72.000000</td>\n",
       "      <td>1.000000</td>\n",
       "      <td>1.000000</td>\n",
       "      <td>3.000000</td>\n",
       "      <td>1.000000</td>\n",
       "      <td>14.000000</td>\n",
       "      <td>3.000000</td>\n",
       "      <td>3.000000</td>\n",
       "      <td>1000000.000000</td>\n",
       "      <td>1.000000</td>\n",
       "      <td>1.000000</td>\n",
       "    </tr>\n",
       "  </tbody>\n",
       "</table>\n",
       "</div>"
      ],
      "text/plain": [
       "              sex         age         car    car_type  decline_app_cnt  \\\n",
       "count  307.000000  307.000000  307.000000  307.000000       307.000000   \n",
       "mean     0.449511   41.736156    0.387622    0.143322         0.104235   \n",
       "std      0.498257   11.313077    0.488003    0.350973         0.398791   \n",
       "min      0.000000   21.000000    0.000000    0.000000         0.000000   \n",
       "25%      0.000000   33.500000    0.000000    0.000000         0.000000   \n",
       "50%      0.000000   41.000000    0.000000    0.000000         0.000000   \n",
       "75%      1.000000   50.000000    1.000000    0.000000         0.000000   \n",
       "max      1.000000   72.000000    1.000000    1.000000         3.000000   \n",
       "\n",
       "        good_work  bki_request_cnt  home_address  work_address  \\\n",
       "count  307.000000       307.000000    307.000000    307.000000   \n",
       "mean     0.153094         1.785016      1.615635      2.553746   \n",
       "std      0.360666         2.185672      0.519694      0.680886   \n",
       "min      0.000000         0.000000      1.000000      1.000000   \n",
       "25%      0.000000         0.000000      1.000000      2.000000   \n",
       "50%      0.000000         1.000000      2.000000      3.000000   \n",
       "75%      0.000000         2.500000      2.000000      3.000000   \n",
       "max      1.000000        14.000000      3.000000      3.000000   \n",
       "\n",
       "               income  foreign_passport     default  \n",
       "count      307.000000        307.000000  307.000000  \n",
       "mean     44558.231270          0.182410    0.114007  \n",
       "std      68497.981737          0.386813    0.318338  \n",
       "min       5000.000000          0.000000    0.000000  \n",
       "25%      20000.000000          0.000000    0.000000  \n",
       "50%      30000.000000          0.000000    0.000000  \n",
       "75%      48500.000000          0.000000    0.000000  \n",
       "max    1000000.000000          1.000000    1.000000  "
      ]
     },
     "execution_count": 92,
     "metadata": {},
     "output_type": "execute_result"
    }
   ],
   "source": [
    "df[df.education.isnull()].describe()"
   ]
  },
  {
   "cell_type": "code",
   "execution_count": 93,
   "id": "handed-somewhere",
   "metadata": {},
   "outputs": [
    {
     "data": {
      "text/html": [
       "<div>\n",
       "<style scoped>\n",
       "    .dataframe tbody tr th:only-of-type {\n",
       "        vertical-align: middle;\n",
       "    }\n",
       "\n",
       "    .dataframe tbody tr th {\n",
       "        vertical-align: top;\n",
       "    }\n",
       "\n",
       "    .dataframe thead th {\n",
       "        text-align: right;\n",
       "    }\n",
       "</style>\n",
       "<table border=\"1\" class=\"dataframe\">\n",
       "  <thead>\n",
       "    <tr style=\"text-align: right;\">\n",
       "      <th></th>\n",
       "      <th>sex</th>\n",
       "      <th>age</th>\n",
       "      <th>car</th>\n",
       "      <th>car_type</th>\n",
       "      <th>decline_app_cnt</th>\n",
       "      <th>good_work</th>\n",
       "      <th>bki_request_cnt</th>\n",
       "      <th>home_address</th>\n",
       "      <th>work_address</th>\n",
       "      <th>income</th>\n",
       "      <th>foreign_passport</th>\n",
       "      <th>default</th>\n",
       "    </tr>\n",
       "  </thead>\n",
       "  <tbody>\n",
       "    <tr>\n",
       "      <th>count</th>\n",
       "      <td>73492.000000</td>\n",
       "      <td>73492.000000</td>\n",
       "      <td>73492.000000</td>\n",
       "      <td>73492.000000</td>\n",
       "      <td>73492.000000</td>\n",
       "      <td>73492.000000</td>\n",
       "      <td>73492.000000</td>\n",
       "      <td>73492.000000</td>\n",
       "      <td>73492.00000</td>\n",
       "      <td>73492.000000</td>\n",
       "      <td>73492.000000</td>\n",
       "      <td>73492.000000</td>\n",
       "    </tr>\n",
       "    <tr>\n",
       "      <th>mean</th>\n",
       "      <td>0.436769</td>\n",
       "      <td>39.270383</td>\n",
       "      <td>0.324498</td>\n",
       "      <td>0.190007</td>\n",
       "      <td>0.276465</td>\n",
       "      <td>0.164943</td>\n",
       "      <td>2.001238</td>\n",
       "      <td>1.575342</td>\n",
       "      <td>2.49604</td>\n",
       "      <td>41085.328321</td>\n",
       "      <td>0.149812</td>\n",
       "      <td>0.127048</td>\n",
       "    </tr>\n",
       "    <tr>\n",
       "      <th>std</th>\n",
       "      <td>0.495989</td>\n",
       "      <td>11.520214</td>\n",
       "      <td>0.468190</td>\n",
       "      <td>0.392309</td>\n",
       "      <td>0.805463</td>\n",
       "      <td>0.371132</td>\n",
       "      <td>2.252317</td>\n",
       "      <td>0.527661</td>\n",
       "      <td>0.68985</td>\n",
       "      <td>46050.474530</td>\n",
       "      <td>0.356890</td>\n",
       "      <td>0.333029</td>\n",
       "    </tr>\n",
       "    <tr>\n",
       "      <th>min</th>\n",
       "      <td>0.000000</td>\n",
       "      <td>21.000000</td>\n",
       "      <td>0.000000</td>\n",
       "      <td>0.000000</td>\n",
       "      <td>0.000000</td>\n",
       "      <td>0.000000</td>\n",
       "      <td>0.000000</td>\n",
       "      <td>1.000000</td>\n",
       "      <td>1.00000</td>\n",
       "      <td>1000.000000</td>\n",
       "      <td>0.000000</td>\n",
       "      <td>0.000000</td>\n",
       "    </tr>\n",
       "    <tr>\n",
       "      <th>25%</th>\n",
       "      <td>0.000000</td>\n",
       "      <td>30.000000</td>\n",
       "      <td>0.000000</td>\n",
       "      <td>0.000000</td>\n",
       "      <td>0.000000</td>\n",
       "      <td>0.000000</td>\n",
       "      <td>0.000000</td>\n",
       "      <td>1.000000</td>\n",
       "      <td>2.00000</td>\n",
       "      <td>20000.000000</td>\n",
       "      <td>0.000000</td>\n",
       "      <td>0.000000</td>\n",
       "    </tr>\n",
       "    <tr>\n",
       "      <th>50%</th>\n",
       "      <td>0.000000</td>\n",
       "      <td>37.000000</td>\n",
       "      <td>0.000000</td>\n",
       "      <td>0.000000</td>\n",
       "      <td>0.000000</td>\n",
       "      <td>0.000000</td>\n",
       "      <td>1.000000</td>\n",
       "      <td>2.000000</td>\n",
       "      <td>3.00000</td>\n",
       "      <td>30000.000000</td>\n",
       "      <td>0.000000</td>\n",
       "      <td>0.000000</td>\n",
       "    </tr>\n",
       "    <tr>\n",
       "      <th>75%</th>\n",
       "      <td>1.000000</td>\n",
       "      <td>48.000000</td>\n",
       "      <td>1.000000</td>\n",
       "      <td>0.000000</td>\n",
       "      <td>0.000000</td>\n",
       "      <td>0.000000</td>\n",
       "      <td>3.000000</td>\n",
       "      <td>2.000000</td>\n",
       "      <td>3.00000</td>\n",
       "      <td>48000.000000</td>\n",
       "      <td>0.000000</td>\n",
       "      <td>0.000000</td>\n",
       "    </tr>\n",
       "    <tr>\n",
       "      <th>max</th>\n",
       "      <td>1.000000</td>\n",
       "      <td>72.000000</td>\n",
       "      <td>1.000000</td>\n",
       "      <td>1.000000</td>\n",
       "      <td>33.000000</td>\n",
       "      <td>1.000000</td>\n",
       "      <td>53.000000</td>\n",
       "      <td>3.000000</td>\n",
       "      <td>3.00000</td>\n",
       "      <td>1000000.000000</td>\n",
       "      <td>1.000000</td>\n",
       "      <td>1.000000</td>\n",
       "    </tr>\n",
       "  </tbody>\n",
       "</table>\n",
       "</div>"
      ],
      "text/plain": [
       "                sex           age           car      car_type  \\\n",
       "count  73492.000000  73492.000000  73492.000000  73492.000000   \n",
       "mean       0.436769     39.270383      0.324498      0.190007   \n",
       "std        0.495989     11.520214      0.468190      0.392309   \n",
       "min        0.000000     21.000000      0.000000      0.000000   \n",
       "25%        0.000000     30.000000      0.000000      0.000000   \n",
       "50%        0.000000     37.000000      0.000000      0.000000   \n",
       "75%        1.000000     48.000000      1.000000      0.000000   \n",
       "max        1.000000     72.000000      1.000000      1.000000   \n",
       "\n",
       "       decline_app_cnt     good_work  bki_request_cnt  home_address  \\\n",
       "count     73492.000000  73492.000000     73492.000000  73492.000000   \n",
       "mean          0.276465      0.164943         2.001238      1.575342   \n",
       "std           0.805463      0.371132         2.252317      0.527661   \n",
       "min           0.000000      0.000000         0.000000      1.000000   \n",
       "25%           0.000000      0.000000         0.000000      1.000000   \n",
       "50%           0.000000      0.000000         1.000000      2.000000   \n",
       "75%           0.000000      0.000000         3.000000      2.000000   \n",
       "max          33.000000      1.000000        53.000000      3.000000   \n",
       "\n",
       "       work_address          income  foreign_passport       default  \n",
       "count   73492.00000    73492.000000      73492.000000  73492.000000  \n",
       "mean        2.49604    41085.328321          0.149812      0.127048  \n",
       "std         0.68985    46050.474530          0.356890      0.333029  \n",
       "min         1.00000     1000.000000          0.000000      0.000000  \n",
       "25%         2.00000    20000.000000          0.000000      0.000000  \n",
       "50%         3.00000    30000.000000          0.000000      0.000000  \n",
       "75%         3.00000    48000.000000          0.000000      0.000000  \n",
       "max         3.00000  1000000.000000          1.000000      1.000000  "
      ]
     },
     "execution_count": 93,
     "metadata": {},
     "output_type": "execute_result"
    }
   ],
   "source": [
    "df[df.education.isnull() == 0].describe()"
   ]
  },
  {
   "cell_type": "markdown",
   "id": "unusual-conditions",
   "metadata": {},
   "source": [
    "У людей с неуказанным образованием в среднем возраст на 2.5 года больше, чем у оставшейся группы людей; у них немного чаще имеется машина отечественного производства; в СРЕДНЕМ им в 3 раза реже отказывали в займах; у них чуть выше СРЕДНЯЯ зарплата и бОльший разброс ее значений.\n",
    "\n",
    "Для начала заменим все пропуски самым популярным значением по колонке."
   ]
  },
  {
   "cell_type": "code",
   "execution_count": 94,
   "id": "continuing-marketplace",
   "metadata": {},
   "outputs": [],
   "source": [
    "df.education.fillna('SCH', inplace=True);"
   ]
  },
  {
   "cell_type": "code",
   "execution_count": 95,
   "id": "amino-wallpaper",
   "metadata": {},
   "outputs": [],
   "source": [
    "bin_cols = ['sex', 'car', 'car_type', 'foreign_passport', 'good_work']\n",
    "\n",
    "cat_cols = ['education', 'work_address', 'home_address']\n",
    "\n",
    "num_cols = ['age', 'decline_app_cnt', 'bki_request_cnt', 'income']"
   ]
  },
  {
   "cell_type": "code",
   "execution_count": 96,
   "id": "bulgarian-tennis",
   "metadata": {
    "scrolled": false
   },
   "outputs": [
    {
     "name": "stderr",
     "output_type": "stream",
     "text": [
      "/usr/local/Cellar/jupyterlab/3.0.10/libexec/lib/python3.9/site-packages/seaborn/distributions.py:2557: FutureWarning: `distplot` is a deprecated function and will be removed in a future version. Please adapt your code to use either `displot` (a figure-level function with similar flexibility) or `histplot` (an axes-level function for histograms).\n",
      "  warnings.warn(msg, FutureWarning)\n"
     ]
    },
    {
     "data": {
      "image/png": "[encoded data removed]",
      "text/plain": [
       "<Figure size 720x360 with 1 Axes>"
      ]
     },
     "metadata": {
      "needs_background": "light"
     },
     "output_type": "display_data"
    },
    {
     "data": {
      "image/png": "[encoded data removed]",
      "text/plain": [
       "<Figure size 720x360 with 1 Axes>"
      ]
     },
     "metadata": {
      "needs_background": "light"
     },
     "output_type": "display_data"
    },
    {
     "data": {
      "image/png": "[encoded data removed]",
      "text/plain": [
       "<Figure size 720x360 with 1 Axes>"
      ]
     },
     "metadata": {
      "needs_background": "light"
     },
     "output_type": "display_data"
    },
    {
     "data": {
      "image/png": "[encoded data removed]",
      "text/plain": [
       "<Figure size 720x360 with 1 Axes>"
      ]
     },
     "metadata": {
      "needs_background": "light"
     },
     "output_type": "display_data"
    },
    {
     "data": {
      "image/png": "[encoded data removed]",
      "text/plain": [
       "<Figure size 720x360 with 1 Axes>"
      ]
     },
     "metadata": {
      "needs_background": "light"
     },
     "output_type": "display_data"
    },
    {
     "data": {
      "image/png": "[encoded data removed]",
      "text/plain": [
       "<Figure size 720x360 with 1 Axes>"
      ]
     },
     "metadata": {
      "needs_background": "light"
     },
     "output_type": "display_data"
    },
    {
     "data": {
      "image/png": "[encoded data removed]",
      "text/plain": [
       "<Figure size 720x360 with 1 Axes>"
      ]
     },
     "metadata": {
      "needs_background": "light"
     },
     "output_type": "display_data"
    },
    {
     "data": {
      "image/png": "[encoded data removed]",
      "text/plain": [
       "<Figure size 720x360 with 1 Axes>"
      ]
     },
     "metadata": {
      "needs_background": "light"
     },
     "output_type": "display_data"
    }
   ],
   "source": [
    "for column in num_cols:\n",
    "    plt.figure(figsize=(10,5))\n",
    "    sns.distplot(df[column], kde=False, rug=False)\n",
    "    \n",
    "for column in num_cols:\n",
    "    plt.figure(figsize=(10,5))\n",
    "    sns.boxplot(x=df.default, y=df[column])"
   ]
  },
  {
   "cell_type": "code",
   "execution_count": 85,
   "id": "material-estate",
   "metadata": {},
   "outputs": [
    {
     "name": "stderr",
     "output_type": "stream",
     "text": [
      "/usr/local/Cellar/jupyterlab/3.0.10/libexec/lib/python3.9/site-packages/seaborn/distributions.py:2557: FutureWarning: `distplot` is a deprecated function and will be removed in a future version. Please adapt your code to use either `displot` (a figure-level function with similar flexibility) or `histplot` (an axes-level function for histograms).\n",
      "  warnings.warn(msg, FutureWarning)\n"
     ]
    },
    {
     "data": {
      "image/png": "[encoded data removed]",
      "text/plain": [
       "<Figure size 720x360 with 1 Axes>"
      ]
     },
     "metadata": {
      "needs_background": "light"
     },
     "output_type": "display_data"
    },
    {
     "data": {
      "image/png": "[encoded data removed]",
      "text/plain": [
       "<Figure size 720x360 with 1 Axes>"
      ]
     },
     "metadata": {
      "needs_background": "light"
     },
     "output_type": "display_data"
    },
    {
     "data": {
      "image/png": "[encoded data removed]",
      "text/plain": [
       "<Figure size 720x360 with 1 Axes>"
      ]
     },
     "metadata": {
      "needs_background": "light"
     },
     "output_type": "display_data"
    },
    {
     "data": {
      "image/png": "[encoded data removed]",
      "text/plain": [
       "<Figure size 720x360 with 1 Axes>"
      ]
     },
     "metadata": {
      "needs_background": "light"
     },
     "output_type": "display_data"
    }
   ],
   "source": [
    "for column in num_cols:\n",
    "    df[column] = df[column].apply(lambda x: np.log(1 + x))\n",
    "    \n",
    "for column in num_cols:\n",
    "    plt.figure(figsize=(10,5))\n",
    "    sns.distplot(df[column], kde=False, rug=False)"
   ]
  },
  {
   "cell_type": "code",
   "execution_count": 86,
   "id": "composite-alaska",
   "metadata": {},
   "outputs": [
    {
     "data": {
      "image/png": "[encoded data removed]",
      "text/plain": [
       "<Figure size 720x360 with 1 Axes>"
      ]
     },
     "metadata": {
      "needs_background": "light"
     },
     "output_type": "display_data"
    },
    {
     "data": {
      "image/png": "[encoded data removed]",
      "text/plain": [
       "<Figure size 720x360 with 1 Axes>"
      ]
     },
     "metadata": {
      "needs_background": "light"
     },
     "output_type": "display_data"
    },
    {
     "data": {
      "image/png": "[encoded data removed]",
      "text/plain": [
       "<Figure size 720x360 with 1 Axes>"
      ]
     },
     "metadata": {
      "needs_background": "light"
     },
     "output_type": "display_data"
    },
    {
     "data": {
      "image/png": "[encoded data removed]",
      "text/plain": [
       "<Figure size 720x360 with 1 Axes>"
      ]
     },
     "metadata": {
      "needs_background": "light"
     },
     "output_type": "display_data"
    }
   ],
   "source": [
    "for column in num_cols:\n",
    "    plt.figure(figsize=(10,5))\n",
    "    sns.boxplot(x=df.default, y=df[column])"
   ]
  },
  {
   "cell_type": "code",
   "execution_count": null,
   "id": "stretch-pleasure",
   "metadata": {},
   "outputs": [],
   "source": []
  }
 ],
 "metadata": {
  "kernelspec": {
   "display_name": "Python 3",
   "language": "python",
   "name": "python3"
  },
  "language_info": {
   "codemirror_mode": {
    "name": "ipython",
    "version": 3
   },
   "file_extension": ".py",
   "mimetype": "text/x-python",
   "name": "python",
   "nbconvert_exporter": "python",
   "pygments_lexer": "ipython3",
   "version": "3.9.2"
  }
 },
 "nbformat": 4,
 "nbformat_minor": 5
}
